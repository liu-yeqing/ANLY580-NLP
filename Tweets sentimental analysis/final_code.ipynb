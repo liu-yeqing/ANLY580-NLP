{
 "cells": [
  {
   "cell_type": "markdown",
   "metadata": {},
   "source": [
    "# ANLY580 HW1: Sentiment Analysis of English Twitter Data"
   ]
  },
  {
   "cell_type": "markdown",
   "metadata": {},
   "source": [
    "Group name: 3+1<br>\n",
    "Group member: Yeqing Liu, Huahui Deng, Han Zhang, Xiner Ning<br>\n",
    "Date: 10/10/2019<br>"
   ]
  },
  {
   "cell_type": "markdown",
   "metadata": {},
   "source": [
    "## Task 1: Exploratory Data analysis"
   ]
  },
  {
   "cell_type": "markdown",
   "metadata": {},
   "source": [
    "### Input data"
   ]
  },
  {
   "cell_type": "code",
   "execution_count": 1,
   "metadata": {},
   "outputs": [],
   "source": [
    "import numpy as np\n",
    "import re\n",
    "import string\n",
    "from collections import Counter\n",
    "import csv\n",
    "import nltk\n",
    "from nltk.tokenize import TweetTokenizer\n",
    "from nltk.tokenize import casual_tokenize\n",
    "from nltk.probability import FreqDist\n",
    "from nltk.util import ngrams\n",
    "from nltk.util import bigrams\n",
    "from nltk.lm import NgramCounter\n",
    "from nltk.corpus import stopwords\n",
    "import matplotlib\n",
    "import matplotlib.pyplot as plt\n",
    "\n",
    "punctuation = list(string.punctuation) + ['…', '...','’']\n",
    "stop_words = stopwords.words('english') + ['rt', 'via']"
   ]
  },
  {
   "cell_type": "code",
   "execution_count": 2,
   "metadata": {},
   "outputs": [
    {
     "name": "stdout",
     "output_type": "stream",
     "text": [
      "The total number of tweets:  12284\n"
     ]
    }
   ],
   "source": [
    "with open('INPUT.txt',encoding='utf-8') as file:\n",
    "    input_as_list = file.readlines()\n",
    "    print(\"The total number of tweets: \", len(input_as_list))"
   ]
  },
  {
   "cell_type": "code",
   "execution_count": 3,
   "metadata": {},
   "outputs": [
    {
     "name": "stdout",
     "output_type": "stream",
     "text": [
      "The total number of characters from input: 864348\n",
      "The total number of tokens: 109433\n",
      "The total number of distinct words: 20513\n",
      "The average number of characters in each tweet: 70.36372517095408\n",
      "The average number of words in each tweet: 9.949120807554543\n",
      "The average number of characters per token: 6.168413549843283\n",
      "The standard deviation of characters per token: 2.8586579684954954\n"
     ]
    }
   ],
   "source": [
    "tweet_text_list = []\n",
    "corpus = []\n",
    "total_word = []\n",
    "total_char = []\n",
    "tweet_list =[]\n",
    "\n",
    "def process(tweet):\n",
    "    #normalize text in each tweet: to lower case & remove stop words and punctuation\n",
    "        tknzr = TweetTokenizer(strip_handles = True, reduce_len = True)\n",
    "        tokens = tknzr.tokenize(tweet)\n",
    "        tokens = [tok.lower() for tok in tokens]\n",
    "        tokens = [tok for tok in tokens if tok not in stop_words]\n",
    "        tokens = [tok for tok in tokens if tok not in punctuation]\n",
    "        # count num of words, num of characters for each tweet\n",
    "        word_count = len(tokens)\n",
    "        char_count = sum([len(word) for word in tokens])\n",
    "        \n",
    "        # regular expression to filter out \n",
    "        # 1. non-english words and signs\n",
    "        # 2. links\n",
    "        # 3. @s \n",
    "        # 4. numbers\n",
    "        reg_exp = \"([^0-9A-Za-z@'])|(\\w+:\\/\\/\\S+)|((\\@[a-zA-Z0-9]*))|([0-9]+)\"#|(\\#[a-zA-Z0-9]*)\n",
    "        tokens = [re.sub(reg_exp, \"\" , tok) for tok in tokens]\n",
    "        tokens = [tok for tok in tokens if tok != '']\n",
    "        \n",
    "        return tokens, word_count, char_count\n",
    "with open('INPUT.txt',encoding='utf-8') as file:\n",
    "    for line in file:\n",
    "        twi = line.strip().split('\\t')\n",
    "        tweet_id, label, tweet = twi[0], twi[1], ' '.join(twi[2:])\n",
    "        \n",
    "        tokens, word_count, char_count = process(tweet)\n",
    "        # list of count of words and characters for each tweet\n",
    "        total_word.append(word_count)\n",
    "        total_char.append(char_count)\n",
    "        # list of all tweets' textual info\n",
    "        tweet_text_list.append(tokens)\n",
    "        # corpus stores all tokens in all tweets as a list\n",
    "        corpus.extend(tokens)\n",
    "        # Store all info for each tweet as a dictionary\n",
    "        dict = {'id': tweet_id,\n",
    "                'label': label,\n",
    "                'text': ' '.join(tokens),\n",
    "                'word_count': word_count,\n",
    "                'char_count': char_count,\n",
    "        }\n",
    "        tweet_list.append(dict)\n",
    "char_in_tok = [len(tok) for tok in corpus]\n",
    "print('The total number of characters from input:', sum(total_char))       \n",
    "print('The total number of tokens:', len(corpus))\n",
    "print('The total number of distinct words:', len(set(corpus)))\n",
    "print('The average number of characters in each tweet:', np.mean(total_char))\n",
    "print('The average number of words in each tweet:', np.mean(total_word))\n",
    "print('The average number of characters per token:', np.mean(char_in_tok))\n",
    "print('The standard deviation of characters per token:', np.std(char_in_tok, ddof = 1))\n"
   ]
  },
  {
   "cell_type": "code",
   "execution_count": 4,
   "metadata": {},
   "outputs": [
    {
     "name": "stdout",
     "output_type": "stream",
     "text": [
      "The top 10 most frequent words are:\n",
      "[('trump', 1009), ('like', 494), ('get', 363), ('people', 362), ('one', 331), ('us', 311), ('new', 307), (\"i'm\", 307), ('would', 261), ('obama', 260)]\n",
      "Total number of tokens corresponding to the top 10 most frequent word is:  4005\n"
     ]
    }
   ],
   "source": [
    "# Using FreqDist to find the 10 most common words\n",
    "freq_dist = FreqDist(corpus)\n",
    "tokens_top_10 = freq_dist.most_common(10)\n",
    "num_top_10 = 0\n",
    "for i in range(0, 10):\n",
    "    (w, freq) = tokens_top_10[i]\n",
    "    num_top_10 += freq\n",
    "print(\"The top 10 most frequent words are:\")\n",
    "print(tokens_top_10)\n",
    "print(\"Total number of tokens corresponding to the top 10 most frequent word is: \", num_top_10)"
   ]
  },
  {
   "cell_type": "code",
   "execution_count": 5,
   "metadata": {},
   "outputs": [
    {
     "name": "stdout",
     "output_type": "stream",
     "text": [
      "The token/type ratio is:  0.18744802756024234\n"
     ]
    }
   ],
   "source": [
    "print(\"The token/type ratio is: \", len(set(corpus)) / len(corpus))"
   ]
  },
  {
   "cell_type": "code",
   "execution_count": 6,
   "metadata": {},
   "outputs": [
    {
     "name": "stdout",
     "output_type": "stream",
     "text": [
      "The number of distinct bigrams of words: 81630\n",
      "The number of distinct trigram of words:  81812\n",
      "The number of distinct four-gram of words:  71989\n",
      "The number of distinct five-gram of words:  60905\n"
     ]
    }
   ],
   "source": [
    "# using nltk.grams to find the total number of distinct n-grams of words\n",
    "def ngram_words(tweet_list):\n",
    "    bigram_counter = Counter()\n",
    "    trigram_counter = Counter()\n",
    "    fourgram_counter = Counter()\n",
    "    fivegram_counter = Counter()\n",
    "    list_counters = []\n",
    "\n",
    "    for tweet in tweet_list:\n",
    "        tokens = tweet['text'].split()\n",
    "        bigrams = list(nltk.ngrams(tokens, 2))\n",
    "        trigrams = list(nltk.ngrams(tokens, 3))\n",
    "        fourgrams = list(nltk.ngrams(tokens, 4))\n",
    "        fivegrams = list(nltk.ngrams(tokens, 5))\n",
    "        # using Counter to store all n-grams for easier counting purpose\n",
    "        bigram_counter.update(bigrams)\n",
    "        trigram_counter.update(trigrams)\n",
    "        fourgram_counter.update(fourgrams)\n",
    "        fivegram_counter.update(fivegrams)\n",
    "    # count of distinct n-grams\n",
    "    distinct_bigram_counter = len(bigram_counter)\n",
    "    distinct_trigram_counter = len(trigram_counter) \n",
    "    distinct_fourgram_counter = len(fourgram_counter)\n",
    "    distinct_fivegram_counter = len(fivegram_counter)\n",
    "    return distinct_bigram_counter, distinct_trigram_counter, distinct_fourgram_counter, distinct_fivegram_counter\n",
    "bigram_counts, trigram_counts, fourgram_counts, fivegram_counts = ngram_words(tweet_list)\n",
    "print(\"The number of distinct bigrams of words:\", bigram_counts)\n",
    "print(\"The number of distinct trigram of words: \", trigram_counts)\n",
    "print(\"The number of distinct four-gram of words: \", fourgram_counts)\n",
    "print(\"The number of distinct five-gram of words: \", fivegram_counts)"
   ]
  },
  {
   "cell_type": "code",
   "execution_count": 7,
   "metadata": {},
   "outputs": [
    {
     "data": {
      "image/png": "[encoded data removed]",
      "text/plain": [
       "<Figure size 432x288 with 1 Axes>"
      ]
     },
     "metadata": {
      "needs_background": "light"
     },
     "output_type": "display_data"
    }
   ],
   "source": [
    "# Plot of token log frequency of input.txt\n",
    "plt.loglog([freq for word, freq in freq_dist.most_common(1000)])\n",
    "plt.xlabel('Rank')\n",
    "plt.ylabel('Frequency')\n",
    "plt.title('Token log frequency of top 1000 most common words')\n",
    "plt.show()"
   ]
  },
  {
   "cell_type": "markdown",
   "metadata": {},
   "source": [
    "This plot shows the appearance frequency of the top 1000 most common words. According to Zipf's law, the most frequent words in a text are the least informative. This will roughly help us identify the significance of each token."
   ]
  },
  {
   "cell_type": "markdown",
   "metadata": {},
   "source": [
    "### Gold data"
   ]
  },
  {
   "cell_type": "code",
   "execution_count": 8,
   "metadata": {},
   "outputs": [],
   "source": [
    "# Read in four gold files separately\n",
    "corpus_gold_dev = []\n",
    "gold_dev_text_list = []\n",
    "gold_dev_list = []\n",
    "with open('dev.txt') as file:\n",
    "    for line in file:\n",
    "        twi = line.strip().split('\\t')\n",
    "        tweet_id, label, tweet = twi[0], twi[1], ' '.join(twi[2:])\n",
    "        tokens, word_count, char_count=process(tweet)\n",
    "        \n",
    "        corpus_gold_dev.extend(tokens)\n",
    "        gold_dev_text_list.append(tokens)\n",
    "        \n",
    "        dict = {'id': tweet_id,\n",
    "                'label': label,\n",
    "                'text': ' '.join(tokens),\n",
    "                'word_count': word_count,\n",
    "                'char_count': char_count,\n",
    "        }\n",
    "        gold_dev_list.append(dict)"
   ]
  },
  {
   "cell_type": "code",
   "execution_count": 9,
   "metadata": {},
   "outputs": [],
   "source": [
    "corpus_gold_devtest = []\n",
    "gold_devtest_text_list = []\n",
    "gold_devtest_list =[]\n",
    "with open('devtest.txt') as file:\n",
    "    for line in file:\n",
    "        twi = line.strip().split('\\t')\n",
    "        tweet_id, label, tweet = twi[0], twi[1], ' '.join(twi[2:])\n",
    "        tokens, word_count, char_count=process(tweet)\n",
    "        \n",
    "        corpus_gold_devtest.extend(tokens)\n",
    "        gold_devtest_text_list.append(tokens)\n",
    "        \n",
    "        dict = {'id': tweet_id,\n",
    "                'label': label,\n",
    "                'text': ' '.join(tokens),\n",
    "                'word_count': word_count,\n",
    "                'char_count': char_count,\n",
    "        }\n",
    "        gold_devtest_list.append(dict)"
   ]
  },
  {
   "cell_type": "code",
   "execution_count": 10,
   "metadata": {},
   "outputs": [],
   "source": [
    "corpus_gold_test = []\n",
    "gold_test_text_list = []\n",
    "gold_test_list =[]\n",
    "with open('test.txt') as file:\n",
    "    for line in file:\n",
    "        twi = line.strip().split('\\t')\n",
    "        tweet_id, label, tweet = twi[0], twi[1], ' '.join(twi[2:])\n",
    "        tokens, word_count, char_count = process(tweet)\n",
    "        \n",
    "        corpus_gold_test.extend(tokens)\n",
    "        gold_test_text_list.append(tokens)\n",
    "       \n",
    "        dict = {'id': tweet_id,\n",
    "                'label': label,\n",
    "                'text': ' '.join(tokens),\n",
    "                'word_count': word_count,\n",
    "                'char_count': char_count,\n",
    "        }\n",
    "        gold_test_list.append(dict)"
   ]
  },
  {
   "cell_type": "code",
   "execution_count": 11,
   "metadata": {},
   "outputs": [],
   "source": [
    "corpus_gold_train = []\n",
    "gold_train_text_list = []\n",
    "gold_train_list =[]\n",
    "with open('train.txt') as file:\n",
    "    for line in file:\n",
    "        twi = line.strip().split('\\t')\n",
    "        tweet_id, label, tweet = twi[0], twi[1], ' '.join(twi[2:])\n",
    "        tokens, word_count, char_count = process(tweet)\n",
    "        \n",
    "        corpus_gold_train.extend(tokens)\n",
    "        gold_train_text_list.append(tokens)\n",
    "        \n",
    "        dict = {'id': tweet_id,\n",
    "                'label': label,\n",
    "                'text': ' '.join(tokens),\n",
    "                'word_count': word_count,\n",
    "                'char_count': char_count,\n",
    "        }\n",
    "        gold_train_list.append(dict)"
   ]
  },
  {
   "cell_type": "code",
   "execution_count": 12,
   "metadata": {},
   "outputs": [
    {
     "name": "stdout",
     "output_type": "stream",
     "text": [
      "Total number of words that are in INPUT.txt but not in training data: 58617\n"
     ]
    }
   ],
   "source": [
    "# Oov words are those that appear in INPUT.txt that are not in training data.\n",
    "diff1 = set(corpus) - set(corpus_gold_dev)\n",
    "diff2 = set(corpus) - set(corpus_gold_devtest)\n",
    "diff3 = set(corpus) - set(corpus_gold_test)\n",
    "diff4 = set(corpus) - set(corpus_gold_train)\n",
    "print(\"Total number of words that are in INPUT.txt but not in training data:\",len(diff1) + len(diff2) + len(diff3) + len(diff4))"
   ]
  },
  {
   "cell_type": "code",
   "execution_count": 13,
   "metadata": {},
   "outputs": [
    {
     "data": {
      "image/png": "[encoded data removed]",
      "text/plain": [
       "<Figure size 432x288 with 1 Axes>"
      ]
     },
     "metadata": {
      "needs_background": "light"
     },
     "output_type": "display_data"
    }
   ],
   "source": [
    "gold_tweet_list = gold_dev_text_list + gold_devtest_text_list + gold_test_text_list + gold_train_text_list\n",
    "def voc_growth(text_list):\n",
    "    length = len(text_list)\n",
    "    quarter = text_list[:(length//4)]\n",
    "    q = []\n",
    "    for line in quarter:\n",
    "        q.extend(line)\n",
    "    \n",
    "    half = text_list[:(length//2)]\n",
    "    h = []\n",
    "    for line in half:\n",
    "        h.extend(line)\n",
    "    \n",
    "    three_fourths = text_list[:(length*3//4)]\n",
    "    t = []\n",
    "    for line in three_fourths:\n",
    "        t.extend(line)\n",
    "    return len(set(q)), len(set(h)), len(set(t))\n",
    "gold_quarter, gold_half, gold_tf = voc_growth(gold_tweet_list)\n",
    "input_quarter, input_half, input_tf = voc_growth(tweet_text_list)\n",
    "fig = plt.figure()\n",
    "ax1 = fig.add_subplot(111)\n",
    "ax1.plot([0.25, 0.5, 0.75], [gold_quarter, gold_half, gold_tf], label = 'Gold')\n",
    "ax1.plot([0.25, 0.5, 0.75], [input_quarter, input_half, input_tf], label = \"Input\")\n",
    "plt.legend(loc = 'upper left')\n",
    "plt.title('Vocabulary Growth')\n",
    "plt.xlabel('Percentage')\n",
    "plt.ylabel('Types')\n",
    "plt.show()"
   ]
  },
  {
   "cell_type": "code",
   "execution_count": 14,
   "metadata": {},
   "outputs": [
    {
     "name": "stdout",
     "output_type": "stream",
     "text": [
      "Total in Gold:\n",
      "\tPositive: 11990 \n",
      "\tNeutral: 13831 \n",
      "\tNegative: 4810\n",
      "In Gold/dev.txt:\n",
      "\tPositive: 843 \n",
      "\tNeutral: 765 \n",
      "\tNegative: 391\n",
      "In Gold/devtest.txt:\n",
      "\tPositive: 994 \n",
      "\tNeutral: 681 \n",
      "\tNegative: 325\n",
      "In Gold/test.txt:\n",
      "\tPositive: 7059 \n",
      "\tNeutral: 10342 \n",
      "\tNegative: 3231\n",
      "In Gold/train.txt:\n",
      "\tPositive: 3094 \n",
      "\tNeutral: 2043 \n",
      "\tNegative: 863\n"
     ]
    }
   ],
   "source": [
    "positive = []\n",
    "negative = []\n",
    "neutral = []\n",
    "# a function to count the total number of positive, negative and neutral tweets\n",
    "def distribution(file):\n",
    "    pos = 0\n",
    "    neg = 0\n",
    "    neu = 0\n",
    "    for line in file:\n",
    "        if line['label'] == 'positive':\n",
    "            pos +=1\n",
    "            positive.extend(line['text'].split(\" \"))\n",
    "        elif line['label'] == 'neutral':\n",
    "            neu +=1\n",
    "            neutral.extend(line['text'].split(\" \"))\n",
    "        elif line['label'] == 'negative':\n",
    "            neg +=1\n",
    "            negative.extend(line['text'].split(\" \"))\n",
    "    print(\"\\tPositive:\", pos, \"\\n\\tNeutral:\", neu, \"\\n\\tNegative:\",neg)\n",
    "print(\"Total in Gold:\")\n",
    "distribution(gold_dev_list + gold_devtest_list + gold_test_list + gold_train_list)\n",
    "print(\"In Gold/dev.txt:\")\n",
    "distribution(gold_dev_list)\n",
    "print(\"In Gold/devtest.txt:\")\n",
    "distribution(gold_devtest_list)\n",
    "print(\"In Gold/test.txt:\")\n",
    "distribution(gold_test_list)\n",
    "print(\"In Gold/train.txt:\")\n",
    "distribution(gold_train_list)"
   ]
  },
  {
   "cell_type": "code",
   "execution_count": 15,
   "metadata": {},
   "outputs": [
    {
     "name": "stdout",
     "output_type": "stream",
     "text": [
      "[('tomorrow', 4418), ('may', 3478), ('th', 3072), ('day', 2960), ('see', 2170), (\"i'm\", 1906), ('friday', 1822), ('night', 1704), ('going', 1670), ('st', 1470), ('sunday', 1404), ('time', 1394), ('good', 1266), ('like', 1210), ('one', 1198), ('new', 1174), ('get', 1164), ('go', 1144), ('nd', 1128), ('love', 1118), ('best', 1096), ('monday', 1074), ('saturday', 1068), ('happy', 1024), ('today', 944), ('rd', 848), ('great', 844), ('watch', 780), ('back', 748), ('thursday', 742), ('want', 736), ('david', 718), (\"can't\", 696), ('make', 692), ('last', 682), ('tonight', 680), ('birthday', 676), ('know', 676), ('game', 670), ('ice', 658), ('national', 628), ('got', 626), ('sun', 620), ('us', 620), ('wait', 610), ('come', 606), ('first', 590), ('still', 578), ('next', 552), ('hope', 552), ('think', 550), ('big', 550), ('morning', 532), ('world', 522), ('u', 512), ('would', 502), (\"i'll\", 496), ('show', 494), ('watching', 492), ('gonna', 488), ('hot', 488), ('win', 486), ('really', 472), ('star', 470), ('tuesday', 466), ('excited', 458), ('concert', 452), ('september', 452), ('ever', 448), ('better', 446), ('live', 446), ('well', 434), ('paul', 432), ('pm', 416), ('antman', 412), ('kendrick', 408), ('sat', 406), ('cream', 404), ('tickets', 398), ('album', 396), ('frank', 394), ('milan', 392), ('wednesday', 390), ('july', 388), ('much', 382), ('coming', 378), ('wars', 378), ('chris', 378), ('right', 376), ('john', 374), ('george', 374), ('way', 370), ('free', 366), ('apple', 366), ('fighters', 364), ('movie', 362), ('amazon', 362), ('foo', 362), ('dog', 360), ('lol', 358)]\n"
     ]
    }
   ],
   "source": [
    "# Look at the difference between the top word types across these three classes\n",
    "freq_pos = FreqDist(positive)\n",
    "top_pos = freq_pos.most_common(100)\n",
    "print(top_pos)"
   ]
  },
  {
   "cell_type": "code",
   "execution_count": 16,
   "metadata": {},
   "outputs": [
    {
     "name": "stdout",
     "output_type": "stream",
     "text": [
      "[('may', 4922), ('th', 3760), ('tomorrow', 3282), ('st', 1938), ('like', 1530), ('day', 1522), ('sunday', 1508), ('friday', 1462), ('going', 1456), ('night', 1382), ('time', 1322), ('get', 1310), ('nd', 1280), ('rd', 1258), (\"i'm\", 1248), ('see', 1200), ('new', 1184), ('one', 1164), ('know', 1096), ('monday', 1088), ('go', 1018), ('david', 1018), ('want', 924), ('saturday', 890), ('think', 868), ('still', 802), ('game', 788), ('john', 774), ('make', 754), ('sun', 736), ('sox', 724), ('thursday', 720), ('first', 700), ('back', 696), ('u', 690), ('last', 688), ('would', 658), ('watch', 658), ('said', 620), ('milan', 612), ('white', 606), ('us', 598), ('today', 596), ('sat', 594), ('tuesday', 582), ('paul', 560), ('frank', 546), ('take', 540), ('september', 538), ('next', 520), ('got', 516), ('real', 508), ('come', 504), (\"he's\", 504), ('right', 500), ('show', 496), ('august', 468), ('big', 462), ('says', 462), ('tonight', 458), ('set', 456), ('raw', 456), ('people', 446), ('well', 444), ('album', 442), ('gucci', 434), ('vs', 430), ('tom', 428), ('wednesday', 424), ('run', 416), ('play', 410), ('trump', 406), ('need', 406), ('even', 398), ('pm', 398), ('red', 398), ('good', 396), ('say', 394), ('gonna', 394), ('really', 392), ('win', 392), ('rollins', 392), ('news', 388), ('cena', 384), ('murray', 384), ('july', 382), (\"can't\", 382), ('two', 382), ('seth', 380), ('world', 378), ('never', 374), ('live', 374), ('since', 372), ('george', 372), ('top', 368), ('black', 368), ('anyone', 368), ('johnson', 362), ('super', 360), ('open', 358)]\n"
     ]
    }
   ],
   "source": [
    "freq_neu = FreqDist(neutral)\n",
    "top_neu = freq_neu.most_common(100)\n",
    "print(top_neu)"
   ]
  },
  {
   "cell_type": "code",
   "execution_count": 17,
   "metadata": {},
   "outputs": [
    {
     "name": "stdout",
     "output_type": "stream",
     "text": [
      "[('may', 2554), ('th', 980), ('tomorrow', 920), ('like', 826), ('st', 746), ('day', 588), (\"i'm\", 552), ('going', 472), ('get', 454), ('time', 444), ('one', 436), ('nd', 422), ('friday', 410), ('see', 400), ('rd', 390), ('sunday', 384), ('people', 380), ('still', 364), ('muslims', 356), ('want', 344), ('think', 338), ('make', 314), ('go', 300), ('know', 286), ('trump', 276), (\"can't\", 274), ('u', 268), ('shit', 266), ('us', 262), ('even', 260), ('would', 258), ('sat', 254), ('sun', 252), ('really', 246), ('night', 246), ('monday', 244), ('world', 244), ('ira', 238), ('bad', 236), (\"he's\", 234), ('got', 226), ('said', 220), ('gay', 218), ('never', 216), ('last', 216), ('haram', 216), ('big', 214), ('christians', 214), ('boko', 212), ('fuck', 210), ('islam', 210), ('well', 208), ('today', 206), ('back', 204), ('say', 202), ('ever', 202), ('right', 202), ('iran', 196), ('israel', 196), ('new', 194), ('good', 190), ('charlie', 190), ('saturday', 188), ('yakub', 188), ('hebdo', 188), ('frank', 184), ('watch', 182), ('take', 180), ('david', 178), ('west', 174), ('black', 174), ('kanye', 172), ('way', 164), ('first', 164), ('jenner', 162), ('amazon', 162), (\"c'mon\", 160), ('worst', 160), ('caitlyn', 158), ('game', 156), ('hate', 156), ('saudi', 156), ('thing', 154), (\"that's\", 154), ('white', 152), ('brother', 152), ('fucking', 150), ('real', 150), ('john', 150), ('much', 148), ('donald', 146), ('show', 146), ('arabia', 146), ('obama', 142), ('work', 142), ('march', 140), ('man', 140), ('prime', 140), ('need', 138), ('thursday', 138)]\n"
     ]
    }
   ],
   "source": [
    "freq_neg = FreqDist(negative)\n",
    "top_neg = freq_neg.most_common(100)\n",
    "print(top_neg)"
   ]
  },
  {
   "cell_type": "code",
   "execution_count": 18,
   "metadata": {},
   "outputs": [
    {
     "name": "stdout",
     "output_type": "stream",
     "text": [
      "[('trump', 1009), ('like', 494), ('get', 363), ('people', 362), ('one', 331), ('us', 311), ('new', 307), (\"i'm\", 307), ('would', 261), ('obama', 260), ('white', 255), ('know', 232), ('vote', 229), ('time', 226), ('kim', 225), ('love', 214), ('think', 213), ('news', 207), ('u', 206), ('voter', 206), ('see', 204), ('need', 199), ('day', 195), ('good', 195), ('still', 192), ('go', 190), ('thanksgiving', 187), ('want', 186), ('clinton', 183), ('right', 181), ('bannon', 177), ('bad', 174), ('isis', 172), ('steve', 170), ('world', 168), ('make', 164), ('foundation', 164), ('melania', 163), ('israel', 162), (\"can't\", 161), ('say', 159), ('great', 155), ('first', 154), ('really', 154), ('w', 154), ('going', 153), ('liberals', 152), ('got', 151), ('security', 150), ('back', 149)]\n"
     ]
    }
   ],
   "source": [
    "print(freq_dist.most_common(50))"
   ]
  },
  {
   "cell_type": "markdown",
   "metadata": {},
   "source": [
    "What words are particularly characteristic of your training set and dev set? Are they the same?\n",
    "\n",
    "<br>Between the three sets, most of the common words are neutral in semantic sense, and they are very similar in general. But we can still see some characteristic words in each class. For example, words showing positive feelings like \"love\", \"best\", \"happy\" and \"great\", and curse words showing negative feelings like \"shit\".\n",
    "\n",
    "<br>It's also worth mention that from negative to neutral to positive classes' tweets, words like \"tomorrow\", \"good\" or \"new\" tends to be more frequent.\n",
    "\n",
    "<br>Proper nouns like \"amazon\" appears in both positive and negative most frequent list, but \"prime\" only appears in list of most frequent negative tweets.\n",
    "\n",
    "<br>In the dev set, the most common words shows a combination of three classes, and a closer connection with political issues; unlike the training sets' connection to both politics and pop/celebrity culture."
   ]
  },
  {
   "cell_type": "markdown",
   "metadata": {},
   "source": [
    "# Task 2: Message Polarity"
   ]
  },
  {
   "cell_type": "markdown",
   "metadata": {},
   "source": [
    "### classifier 1: Naive Bayes"
   ]
  },
  {
   "cell_type": "code",
   "execution_count": 26,
   "metadata": {},
   "outputs": [],
   "source": [
    "import numpy as np\n",
    "import pandas as pd\n",
    "import nltk\n",
    "from nltk.corpus import brown\n",
    "from nltk.corpus import webtext\n",
    "from nltk.tokenize import RegexpTokenizer\n",
    "from nltk.probability import ConditionalFreqDist\n",
    "from nltk.probability import FreqDist\n",
    "from tokenizer import tokenize, TOK\n",
    "from nltk.tokenize import sent_tokenize, word_tokenize\n",
    "\n",
    "#from tokenize import sent_tokenize, word_tokenize\n",
    "import random\n",
    "from nltk.classify import NaiveBayesClassifier\n",
    "from nltk.sentiment.util import *\n",
    "import sklearn\n",
    "from sklearn.metrics import confusion_matrix\n",
    "import seaborn as sn\n",
    "import matplotlib.pyplot as plt\n",
    "#from sklearn import cross_validate"
   ]
  },
  {
   "cell_type": "code",
   "execution_count": 27,
   "metadata": {},
   "outputs": [],
   "source": [
    "# read as csv\n",
    "train = pd.read_csv('train.txt',delimiter='\\t')\n",
    "train.columns=['id','class','tweet']\n",
    "\n",
    "dev = pd.read_csv('dev.txt',delimiter='\\t')\n",
    "dev.columns=['id','class','tweet']\n",
    "\n",
    "devtest = pd.read_csv('devtest.txt',delimiter='\\t')\n",
    "devtest.columns=['id','class','tweet']\n",
    "\n",
    "test = pd.read_csv('test.txt',delimiter='\\t')\n",
    "test.columns=['id','class','tweet','a']\n",
    "test.drop([\"a\"], axis = 1, inplace = True) "
   ]
  },
  {
   "cell_type": "code",
   "execution_count": 28,
   "metadata": {},
   "outputs": [],
   "source": [
    "# combine data into one table\n",
    "data=pd.concat([train,dev, devtest, test])"
   ]
  },
  {
   "cell_type": "code",
   "execution_count": 29,
   "metadata": {},
   "outputs": [],
   "source": [
    "# alldata\n",
    "pos_data = data[data['class'] == 'positive']\n",
    "neg_data = data[data['class'] == 'negative']\n",
    "neutral_data = data[data['class'] == 'neutral']\n",
    "\n",
    "pos_tweets_data = pos_data['tweet'].tolist()\n",
    "neg_tweets_data = neg_data['tweet'].tolist()\n",
    "neutral_tweets_data = neutral_data['tweet'].tolist()"
   ]
  },
  {
   "cell_type": "code",
   "execution_count": 30,
   "metadata": {},
   "outputs": [],
   "source": [
    "# define the method of tokenization\n",
    "def tok(tweets):\n",
    "    \n",
    "    tok_tweets=tokenize(tweets)\n",
    "    words=[]\n",
    "    for token in tok_tweets:\n",
    "        if TOK.descr[token.kind]=='WORD':\n",
    "            words.append(token.txt)\n",
    "\n",
    "    return words"
   ]
  },
  {
   "cell_type": "code",
   "execution_count": 31,
   "metadata": {},
   "outputs": [],
   "source": [
    "# recall the tok function and transfer tokens from list to a dictionary\n",
    "def display(tweet):\n",
    "\n",
    "    a=tok(tweet)\n",
    "    truelist=[]\n",
    "    for i in range(0, len(a)):\n",
    "        truelist.append(True)\n",
    "    return dict(zip(a,truelist))"
   ]
  },
  {
   "cell_type": "code",
   "execution_count": 33,
   "metadata": {},
   "outputs": [],
   "source": [
    "del dict"
   ]
  },
  {
   "cell_type": "code",
   "execution_count": 34,
   "metadata": {},
   "outputs": [],
   "source": [
    "# prepare data for corss-validation\n",
    "pos=[(display(tweet),'positive') for tweet in pos_tweets_data]\n",
    "neg=[(display(tweet),'negative') for tweet in neg_tweets_data]\n",
    "neutral=[(display(tweet),'neutral') for tweet in neutral_tweets_data]\n",
    "\n",
    "all_data=pos+neg+neutral\n",
    "\n",
    "random.seed(1200)\n",
    "random.shuffle(all_data)\n"
   ]
  },
  {
   "cell_type": "code",
   "execution_count": 35,
   "metadata": {},
   "outputs": [
    {
     "name": "stdout",
     "output_type": "stream",
     "text": [
      "The accuracy of the model is  0.49058214181499854\n"
     ]
    }
   ],
   "source": [
    "# cross validate the model and get the accuracy\n",
    "num_folds = 10\n",
    "subset_size = int(len(all_data)/num_folds)\n",
    "accuracy=[]\n",
    "for i in range(num_folds):\n",
    "    testing_this_round = all_data[i*subset_size:][:subset_size]\n",
    "    training_this_round = all_data[:i*subset_size] + all_data[(i+1)*subset_size:]\n",
    "    classifier = nltk.NaiveBayesClassifier.train(testing_this_round)\n",
    "    accuracy.append(nltk.classify.accuracy(classifier, training_this_round))\n",
    "\n",
    "\n",
    "print('The accuracy of the model is ',sum(accuracy)/10)"
   ]
  },
  {
   "cell_type": "code",
   "execution_count": 36,
   "metadata": {},
   "outputs": [],
   "source": [
    "# predict classes to all data\n",
    "data_tweet=data['tweet'].tolist()\n",
    "data_class_input=[]\n",
    "for tweet in data_tweet:\n",
    "    tokens=display(tweet)\n",
    "    data_class_input.append(classifier.classify(dict([token, True] for token in tokens)))\n",
    "data['predict']=data_class_input"
   ]
  },
  {
   "cell_type": "code",
   "execution_count": 37,
   "metadata": {},
   "outputs": [
    {
     "data": {
      "text/plain": [
       "array([[3675,  610,  511],\n",
       "       [5388, 5013, 3366],\n",
       "       [2670, 1865, 7364]], dtype=int64)"
      ]
     },
     "execution_count": 37,
     "metadata": {},
     "output_type": "execute_result"
    }
   ],
   "source": [
    "# confusion matrix\n",
    "y_true = data['class']\n",
    "y_pred = data['predict']\n",
    "NB_cm = confusion_matrix(y_true, y_pred)\n",
    "NB_cm"
   ]
  },
  {
   "cell_type": "code",
   "execution_count": 38,
   "metadata": {},
   "outputs": [
    {
     "data": {
      "image/png": "[encoded data removed]",
      "text/plain": [
       "<Figure size 720x504 with 2 Axes>"
      ]
     },
     "metadata": {
      "needs_background": "light"
     },
     "output_type": "display_data"
    }
   ],
   "source": [
    "# heat map of confusion matrix\n",
    "NB_cm_df = pd.DataFrame(NB_cm, columns = np.unique(y_true), index = np.unique(y_true))\n",
    "NB_cm_df.index.name = 'Actual'\n",
    "NB_cm_df.columns.name = 'Predicted'\n",
    "plt.figure(figsize = (10,7))\n",
    "sn.set(font_scale=1.4)\n",
    "sn.heatmap(NB_cm_df, cmap=\"Reds\", annot=True, annot_kws={\"size\": 16})\n",
    "#sn.distplot()\n",
    "plt.show()"
   ]
  },
  {
   "cell_type": "code",
   "execution_count": 80,
   "metadata": {
    "scrolled": true
   },
   "outputs": [],
   "source": [
    "# read input\n",
    "input_data = pd.read_csv('INPUT.txt',delimiter='\\t')\n",
    "input_data.columns=['id','class','tweet']\n",
    "input_tweet=input_data['tweet'].tolist()\n",
    "\n",
    "# classify tweets in INPUT\n",
    "class_input=[]\n",
    "for tweet in input_tweet:\n",
    "    tokens=display(tweet)\n",
    "    class_input.append(classifier.classify(dict([token, True] for token in tokens)))\n",
    "input_data['class']=class_input\n",
    "input_data = input_data.drop(columns=['tweet']) \n",
    "# save the output of INPUT into a csv file\n",
    "input_data.to_csv('input_classification.csv',index=False)"
   ]
  },
  {
   "cell_type": "code",
   "execution_count": 81,
   "metadata": {},
   "outputs": [
    {
     "data": {
      "text/html": [
       "<div>\n",
       "<style scoped>\n",
       "    .dataframe tbody tr th:only-of-type {\n",
       "        vertical-align: middle;\n",
       "    }\n",
       "\n",
       "    .dataframe tbody tr th {\n",
       "        vertical-align: top;\n",
       "    }\n",
       "\n",
       "    .dataframe thead th {\n",
       "        text-align: right;\n",
       "    }\n",
       "</style>\n",
       "<table border=\"1\" class=\"dataframe\">\n",
       "  <thead>\n",
       "    <tr style=\"text-align: right;\">\n",
       "      <th></th>\n",
       "      <th>id</th>\n",
       "      <th>class</th>\n",
       "    </tr>\n",
       "  </thead>\n",
       "  <tbody>\n",
       "    <tr>\n",
       "      <th>0</th>\n",
       "      <td>801989272341453952</td>\n",
       "      <td>neutral</td>\n",
       "    </tr>\n",
       "    <tr>\n",
       "      <th>1</th>\n",
       "      <td>801990978424962944</td>\n",
       "      <td>neutral</td>\n",
       "    </tr>\n",
       "    <tr>\n",
       "      <th>2</th>\n",
       "      <td>801996232553963008</td>\n",
       "      <td>positive</td>\n",
       "    </tr>\n",
       "    <tr>\n",
       "      <th>3</th>\n",
       "      <td>801998343442407040</td>\n",
       "      <td>neutral</td>\n",
       "    </tr>\n",
       "    <tr>\n",
       "      <th>4</th>\n",
       "      <td>802001659970744064</td>\n",
       "      <td>positive</td>\n",
       "    </tr>\n",
       "  </tbody>\n",
       "</table>\n",
       "</div>"
      ],
      "text/plain": [
       "                   id     class\n",
       "0  801989272341453952   neutral\n",
       "1  801990978424962944   neutral\n",
       "2  801996232553963008  positive\n",
       "3  801998343442407040   neutral\n",
       "4  802001659970744064  positive"
      ]
     },
     "execution_count": 81,
     "metadata": {},
     "output_type": "execute_result"
    }
   ],
   "source": [
    "input_data[:5]"
   ]
  },
  {
   "cell_type": "markdown",
   "metadata": {},
   "source": [
    "### classifier 2: Vader"
   ]
  },
  {
   "cell_type": "code",
   "execution_count": 39,
   "metadata": {},
   "outputs": [],
   "source": [
    "import pandas as pd\n",
    "import numpy as np\n",
    "import nltk\n",
    "from nltk.sentiment.vader import SentimentIntensityAnalyzer\n",
    "from sklearn.metrics import confusion_matrix\n",
    "import seaborn as sn\n",
    "import matplotlib.pyplot as plt\n",
    "\n",
    "#Download vader lexicon\n",
    "#nltk.download('vader_lexicon')"
   ]
  },
  {
   "cell_type": "code",
   "execution_count": 40,
   "metadata": {},
   "outputs": [],
   "source": [
    "# Read in all datasets\n",
    "train = pd.read_csv('train.txt',delimiter='\\t')\n",
    "train.columns=['id','class','tweet']\n",
    "\n",
    "dev = pd.read_csv('dev.txt',delimiter='\\t')\n",
    "dev.columns=['id','class','tweet']\n",
    "\n",
    "devtest = pd.read_csv('devtest.txt',delimiter='\\t')\n",
    "devtest.columns=['id','class','tweet']\n",
    "\n",
    "test = pd.read_csv('test.txt',delimiter='\\t')\n",
    "test.columns=['id','class','tweet','a']\n",
    "test.drop([\"a\"], axis = 1, inplace = True) \n"
   ]
  },
  {
   "cell_type": "code",
   "execution_count": 41,
   "metadata": {},
   "outputs": [
    {
     "data": {
      "text/html": [
       "<div>\n",
       "<style scoped>\n",
       "    .dataframe tbody tr th:only-of-type {\n",
       "        vertical-align: middle;\n",
       "    }\n",
       "\n",
       "    .dataframe tbody tr th {\n",
       "        vertical-align: top;\n",
       "    }\n",
       "\n",
       "    .dataframe thead th {\n",
       "        text-align: right;\n",
       "    }\n",
       "</style>\n",
       "<table border=\"1\" class=\"dataframe\">\n",
       "  <thead>\n",
       "    <tr style=\"text-align: right;\">\n",
       "      <th></th>\n",
       "      <th>id</th>\n",
       "      <th>class</th>\n",
       "      <th>tweet</th>\n",
       "    </tr>\n",
       "  </thead>\n",
       "  <tbody>\n",
       "    <tr>\n",
       "      <th>0</th>\n",
       "      <td>628976607420645377</td>\n",
       "      <td>negative</td>\n",
       "      <td>@Microsoft how about you make a system that do...</td>\n",
       "    </tr>\n",
       "    <tr>\n",
       "      <th>1</th>\n",
       "      <td>629023169169518592</td>\n",
       "      <td>negative</td>\n",
       "      <td>I may be ignorant on this issue but... should ...</td>\n",
       "    </tr>\n",
       "    <tr>\n",
       "      <th>2</th>\n",
       "      <td>629179223232479232</td>\n",
       "      <td>negative</td>\n",
       "      <td>Thanks to @microsoft, I just may be switching ...</td>\n",
       "    </tr>\n",
       "    <tr>\n",
       "      <th>3</th>\n",
       "      <td>629186282179153920</td>\n",
       "      <td>neutral</td>\n",
       "      <td>If I make a game as a #windows10 Universal App...</td>\n",
       "    </tr>\n",
       "    <tr>\n",
       "      <th>4</th>\n",
       "      <td>629226490152914944</td>\n",
       "      <td>positive</td>\n",
       "      <td>Microsoft, I may not prefer your gaming branch...</td>\n",
       "    </tr>\n",
       "  </tbody>\n",
       "</table>\n",
       "</div>"
      ],
      "text/plain": [
       "                   id     class  \\\n",
       "0  628976607420645377  negative   \n",
       "1  629023169169518592  negative   \n",
       "2  629179223232479232  negative   \n",
       "3  629186282179153920   neutral   \n",
       "4  629226490152914944  positive   \n",
       "\n",
       "                                               tweet  \n",
       "0  @Microsoft how about you make a system that do...  \n",
       "1  I may be ignorant on this issue but... should ...  \n",
       "2  Thanks to @microsoft, I just may be switching ...  \n",
       "3  If I make a game as a #windows10 Universal App...  \n",
       "4  Microsoft, I may not prefer your gaming branch...  "
      ]
     },
     "execution_count": 41,
     "metadata": {},
     "output_type": "execute_result"
    }
   ],
   "source": [
    "# Combine all data into one table\n",
    "data=pd.concat([train, dev, devtest, test])\n",
    "data[:5]"
   ]
  },
  {
   "cell_type": "code",
   "execution_count": 42,
   "metadata": {},
   "outputs": [
    {
     "data": {
      "text/plain": [
       "[{'id': 628976607420645377,\n",
       "  'class': 'negative',\n",
       "  'tweet': \"@Microsoft how about you make a system that doesn't eat my friggin discs. This is the 2nd time this has happened and I am so sick of it!\"},\n",
       " {'id': 629023169169518592,\n",
       "  'class': 'negative',\n",
       "  'tweet': \"I may be ignorant on this issue but... should we celebrate @Microsoft's parental leave changes? Doesn't the gender divide suggest... (1/2)\"},\n",
       " {'id': 629179223232479232,\n",
       "  'class': 'negative',\n",
       "  'tweet': 'Thanks to @microsoft, I just may be switching over to @apple.'}]"
      ]
     },
     "execution_count": 42,
     "metadata": {},
     "output_type": "execute_result"
    }
   ],
   "source": [
    "# Convert dataframe to a list of dictionary\n",
    "data_list = data.to_dict(orient = 'records')\n",
    "data_list[:3]"
   ]
  },
  {
   "cell_type": "code",
   "execution_count": 43,
   "metadata": {},
   "outputs": [],
   "source": [
    "# Create vader analyzer\n",
    "v_analyzer = SentimentIntensityAnalyzer()\n",
    "\n",
    "# Define function to use Vader Classifier\n",
    "def vader_classifier(dl):\n",
    "    \n",
    "    for i in range(len(dl)):\n",
    "\n",
    "        # Compute vader score for each tweet\n",
    "        v_score = v_analyzer.polarity_scores(dl[i]['tweet'])\n",
    "\n",
    "        # Classify tweet as negative if compound <= -0.05\n",
    "        if v_score['compound'] <= -0.05:\n",
    "            predict = \"negative\"\n",
    "        # Classify tweet as positive if compound >= 0.05\n",
    "        elif v_score['compound'] >= 0.05:\n",
    "            predict = 'positive'\n",
    "        # Classify tweet as neutral if compound <0.05 and >-0.05\n",
    "        else:\n",
    "            predict = 'neutral'\n",
    "\n",
    "        # Add the vader score and prediction into the list of dictionary\n",
    "        dl[i].update([(\"v_socre\" , v_score), (\"predict\" , predict)])\n",
    "        "
   ]
  },
  {
   "cell_type": "code",
   "execution_count": 44,
   "metadata": {},
   "outputs": [
    {
     "data": {
      "text/plain": [
       "[{'id': 628976607420645377,\n",
       "  'class': 'negative',\n",
       "  'tweet': \"@Microsoft how about you make a system that doesn't eat my friggin discs. This is the 2nd time this has happened and I am so sick of it!\",\n",
       "  'v_socre': {'neg': 0.153, 'neu': 0.847, 'pos': 0.0, 'compound': -0.674},\n",
       "  'predict': 'negative'},\n",
       " {'id': 629023169169518592,\n",
       "  'class': 'negative',\n",
       "  'tweet': \"I may be ignorant on this issue but... should we celebrate @Microsoft's parental leave changes? Doesn't the gender divide suggest... (1/2)\",\n",
       "  'v_socre': {'neg': 0.137, 'neu': 0.708, 'pos': 0.154, 'compound': 0.34},\n",
       "  'predict': 'positive'},\n",
       " {'id': 629179223232479232,\n",
       "  'class': 'negative',\n",
       "  'tweet': 'Thanks to @microsoft, I just may be switching over to @apple.',\n",
       "  'v_socre': {'neg': 0.0, 'neu': 0.756, 'pos': 0.244, 'compound': 0.4404},\n",
       "  'predict': 'positive'}]"
      ]
     },
     "execution_count": 44,
     "metadata": {},
     "output_type": "execute_result"
    }
   ],
   "source": [
    "# Apply Vader Classifier to data_list\n",
    "vader_classifier(data_list)\n",
    "\n",
    "# Check the list of dictionary after adding results\n",
    "data_list[:3]"
   ]
  },
  {
   "cell_type": "code",
   "execution_count": 45,
   "metadata": {},
   "outputs": [
    {
     "name": "stdout",
     "output_type": "stream",
     "text": [
      "The accuracy of Vader Classifier is  0.5140502921672904\n"
     ]
    }
   ],
   "source": [
    "# Convert the list of dictionary to a new dataframe\n",
    "data_new = pd.DataFrame(data_list)\n",
    "data_new[:5]\n",
    "\n",
    "# Compute the accuracy\n",
    "print(\"The accuracy of Vader Classifier is \", np.mean(data_new[\"class\"] == data_new[\"predict\"]))\n"
   ]
  },
  {
   "cell_type": "code",
   "execution_count": 46,
   "metadata": {},
   "outputs": [
    {
     "data": {
      "text/plain": [
       "array([[2865,  738, 1193],\n",
       "       [3273, 4981, 5513],\n",
       "       [1397, 2689, 7813]], dtype=int64)"
      ]
     },
     "execution_count": 46,
     "metadata": {},
     "output_type": "execute_result"
    }
   ],
   "source": [
    "# Create a confusion matrix for the classification\n",
    "y_true = data_new['class']\n",
    "y_pred = data_new['predict']\n",
    "v_cm = confusion_matrix(y_true, y_pred)\n",
    "v_cm"
   ]
  },
  {
   "cell_type": "code",
   "execution_count": 47,
   "metadata": {},
   "outputs": [
    {
     "data": {
      "text/plain": [
       "<matplotlib.axes._subplots.AxesSubplot at 0x253c460b940>"
      ]
     },
     "execution_count": 47,
     "metadata": {},
     "output_type": "execute_result"
    },
    {
     "data": {
      "image/png": "[encoded data removed]",
      "text/plain": [
       "<Figure size 720x504 with 2 Axes>"
      ]
     },
     "metadata": {},
     "output_type": "display_data"
    }
   ],
   "source": [
    "# Create a confusion matrix visualization\n",
    "v_cm_df = pd.DataFrame(v_cm, columns = np.unique(y_true), index = np.unique(y_true))\n",
    "v_cm_df.index.name = 'Actual'\n",
    "v_cm_df.columns.name = 'Predicted'\n",
    "plt.figure(figsize = (10,7))\n",
    "sn.set(font_scale=1.4)\n",
    "sn.heatmap(v_cm_df, cmap=\"Blues\", annot=True, annot_kws={\"size\": 16})\n"
   ]
  },
  {
   "cell_type": "markdown",
   "metadata": {},
   "source": [
    "# Task 3: Performance evaluation "
   ]
  },
  {
   "cell_type": "code",
   "execution_count": 54,
   "metadata": {
    "scrolled": false
   },
   "outputs": [
    {
     "name": "stdout",
     "output_type": "stream",
     "text": [
      "In Naive Bayes model, recall for negative is 0.7676348547717843\n",
      "In Naive Bayes model, recall for neutral is 0.36231884057971014\n",
      "In Naive Bayes model, recall for positive is 0.6166666666666667\n",
      "In Naive Bayes model, precision for negative is 0.3135593220338983\n",
      "In Naive Bayes model, precision for neutral is 0.6657789613848203\n",
      "In Naive Bayes model, precision for positive is 0.654288240495137\n"
     ]
    }
   ],
   "source": [
    "## NB \n",
    "#recall for negative, netural, positive\n",
    "print('In Naive Bayes model, recall for negative is',(3700)/(3700+610+510))\n",
    "print('In Naive Bayes model, recall for neutral is',(5000)/(5400+5000+3400))\n",
    "print('In Naive Bayes model, recall for positive is',(7400)/(2700+1900+7400))\n",
    "#precision for negative, netural, positive\n",
    "print('In Naive Bayes model, precision for negative is',(3700)/(3700+5400+2700))\n",
    "print('In Naive Bayes model, precision for neutral is',(5000)/(610+5000+1900))\n",
    "print('In Naive Bayes model, precision for positive is',(7400)/(7400+3400+510))"
   ]
  },
  {
   "cell_type": "code",
   "execution_count": 55,
   "metadata": {},
   "outputs": [
    {
     "name": "stdout",
     "output_type": "stream",
     "text": [
      "In Vader, recall for negative is 0.5991735537190083\n",
      "In Vader, recall for neutral is 0.36231884057971014\n",
      "In Vader, recall for positive is 0.6554621848739496\n",
      "In Vader, precision for negative is 0.3815789473684211\n",
      "In Vader, precision for neutral is 0.5924170616113744\n",
      "In Vader, precision for positive is 0.5379310344827586\n"
     ]
    }
   ],
   "source": [
    "## Vader \n",
    "#recall for negative, netural, positive\n",
    "print('In Vader, recall for negative is',(2900)/(2900+740+1200))\n",
    "print('In Vader, recall for neutral is',(5000)/(5000+3300+5500))\n",
    "print('In Vader, recall for positive is',(7800)/(7800+2700+1400))\n",
    "#precision for negative, netural, positive\n",
    "print('In Vader, precision for negative is',(2900)/(2900+3300+1400))\n",
    "print('In Vader, precision for neutral is',(5000)/(740+5000+2700))\n",
    "print('In Vader, precision for positive is',(7800)/(1200+5500+7800))"
   ]
  },
  {
   "cell_type": "code",
   "execution_count": 56,
   "metadata": {
    "scrolled": true
   },
   "outputs": [
    {
     "data": {
      "image/png": "[encoded data removed]",
      "text/plain": [
       "<IPython.core.display.Image object>"
      ]
     },
     "execution_count": 56,
     "metadata": {},
     "output_type": "execute_result"
    }
   ],
   "source": [
    "from IPython.display import Image\n",
    "Image(\"performance.png\")"
   ]
  },
  {
   "cell_type": "markdown",
   "metadata": {},
   "source": [
    "From the above table, we see that Naive Bayes model has higher precision on neural and positive tweets, while Vader gives better precision score on negative tweets. Naive Bayes model has higher recall for negative tweets and lower precision score on positive tweets. As for f-score, both models reach the highest score for positive tweets. In general, Naive Bayes model performs better than Vader model based on Average Recall. "
   ]
  },
  {
   "cell_type": "markdown",
   "metadata": {},
   "source": [
    "Naive Bayes model has a low precision score on negative tweets. One explanation is that there are fewer negative tweets in the trianing data than the other two classes. Thus it is important to have a balanced training set for naive bayes model. Even though each model has slightly different scores on each class, there aren't distinct differences between the two models. "
   ]
  },
  {
   "cell_type": "markdown",
   "metadata": {},
   "source": [
    "Tokenization is important in both models. We think it is especially important in Vader model, since it effects how words are being tokenized thus different tokenization methods would have different matches with the lexicons. "
   ]
  },
  {
   "cell_type": "markdown",
   "metadata": {},
   "source": [
    "If we have more time, we will make the following improvements\n",
    "    <br>1. Try different tokenization methods and tokenize the text with regular expression.\n",
    "    <br>2. Make dev set to tune model parameters.\n",
    "    <br>3. Use undersampling technique to balance the training set so that each class is equally distributed. \n",
    "    <br>4. Add more sentiment lexicons to the Vader. "
   ]
  },
  {
   "cell_type": "code",
   "execution_count": null,
   "metadata": {},
   "outputs": [],
   "source": []
  }
 ],
 "metadata": {
  "kernelspec": {
   "display_name": "Python 3",
   "language": "python",
   "name": "python3"
  },
  "language_info": {
   "codemirror_mode": {
    "name": "ipython",
    "version": 3
   },
   "file_extension": ".py",
   "mimetype": "text/x-python",
   "name": "python",
   "nbconvert_exporter": "python",
   "pygments_lexer": "ipython3",
   "version": "3.6.5"
  }
 },
 "nbformat": 4,
 "nbformat_minor": 2
}
